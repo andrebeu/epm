{
 "cells": [
  {
   "cell_type": "code",
   "execution_count": 12,
   "metadata": {},
   "outputs": [
    {
     "name": "stdout",
     "output_type": "stream",
     "text": [
      "The autoreload extension is already loaded. To reload it, use:\n",
      "  %reload_ext autoreload\n"
     ]
    }
   ],
   "source": [
    "import numpy as np\n",
    "import tensorflow as tf\n",
    "\n",
    "from pureEM import *\n",
    "\n",
    "\n",
    "import matplotlib.pyplot as plt\n",
    "%matplotlib inline\n",
    "\n",
    "%load_ext autoreload\n",
    "%reload_ext autoreload\n",
    "%autoreload 2\n"
   ]
  },
  {
   "cell_type": "markdown",
   "metadata": {},
   "source": [
    "# PM task ideas"
   ]
  },
  {
   "cell_type": "markdown",
   "metadata": {},
   "source": [
    "- network given the PM cue on first trial, must respond with PM action\n",
    "    - on first trial encode stim_rep(PMcue):cell_state\n",
    "    - retrieval gate controled by sensory info and cell\n",
    "    - PM cue presented unifrom random after trial 25\n",
    "    - trainable initial cell state\n",
    "    - episode unique (random) PM cue\n",
    "- goal of this first test is to see if retrieval gate is learnable\n",
    "    - can network shut off retrieval during ongoing task?\n",
    "- since during training I am giving the network feedback on every stimulus, how do I prevent it from just learning a mapping from stimulus to output in cell state? \n",
    "- maybe the first thing to check is pureWM model error rate on PM trials increase with OG task difficulty. then can I mitigate this with an EM architecture?"
   ]
  },
  {
   "cell_type": "markdown",
   "metadata": {},
   "source": [
    "- 2back and 3back in same episode on random vectors \n",
    "    - DND has two slots corresponding to 2back and 3back\n",
    "    - encoding happens when task shifts\n",
    "    - learn to retrieve relevant cell state when task shifts"
   ]
  }
 ],
 "metadata": {
  "kernelspec": {
   "display_name": "Python 3",
   "language": "python",
   "name": "python3"
  },
  "language_info": {
   "codemirror_mode": {
    "name": "ipython",
    "version": 3
   },
   "file_extension": ".py",
   "mimetype": "text/x-python",
   "name": "python",
   "nbconvert_exporter": "python",
   "pygments_lexer": "ipython3",
   "version": "3.6.5"
  }
 },
 "nbformat": 4,
 "nbformat_minor": 2
}
